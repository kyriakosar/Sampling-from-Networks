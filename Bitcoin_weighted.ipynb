{
 "cells": [
  {
   "cell_type": "code",
   "execution_count": 1,
   "metadata": {},
   "outputs": [],
   "source": [
    "import collections\n",
    "import matplotlib.pyplot as plt\n",
    "from collections import defaultdict\n",
    "import collections\n",
    "import numpy as np\n",
    "from statistics import mean \n",
    "import time\n",
    "from scipy import stats\n",
    "import networkx as nx\n",
    "from sklearn import preprocessing"
   ]
  },
  {
   "cell_type": "code",
   "execution_count": 2,
   "metadata": {},
   "outputs": [
    {
     "data": {
      "text/html": [
       "\n",
       "\t\t\t<script type=\"text/javascript\">\n",
       "\t\t\t<!--\n",
       "\t\t\t\t\n",
       "\t\t\t{\n",
       "\t\t\t\tvar element = document.getElementById('NetworKit_script');\n",
       "\t\t\t\tif (element) {\n",
       "\t\t\t\t\telement.parentNode.removeChild(element);\n",
       "\t\t\t\t}\n",
       "\t\t\t\telement = document.createElement('script');\n",
       "\t\t\t\telement.type = 'text/javascript';\n",
       "\t\t\t\telement.innerHTML = 'function NetworKit_pageEmbed(id) { var i, j; var elements; elements = document.getElementById(id).getElementsByClassName(\"Plot\"); for (i=0; i<elements.length; i++) { elements[i].id = id + \"_Plot_\" + i; var data = elements[i].getAttribute(\"data-image\").split(\"|\"); elements[i].removeAttribute(\"data-image\"); var content = \"<div class=\\\\\"Image\\\\\" id=\\\\\"\" + elements[i].id + \"_Image\\\\\" />\"; elements[i].innerHTML = content; elements[i].setAttribute(\"data-image-index\", 0); elements[i].setAttribute(\"data-image-length\", data.length); for (j=0; j<data.length; j++) { elements[i].setAttribute(\"data-image-\" + j, data[j]); } NetworKit_plotUpdate(elements[i]); elements[i].onclick = function (e) { NetworKit_overlayShow((e.target) ? e.target : e.srcElement); } } elements = document.getElementById(id).getElementsByClassName(\"HeatCell\"); for (i=0; i<elements.length; i++) { var data = parseFloat(elements[i].getAttribute(\"data-heat\")); var color = \"#00FF00\"; if (data <= 1 && data > 0) { color = \"hsla(0, 100%, 75%, \" + (data) + \")\"; } else if (data <= 0 && data >= -1) { color = \"hsla(240, 100%, 75%, \" + (-data) + \")\"; } elements[i].style.backgroundColor = color; } elements = document.getElementById(id).getElementsByClassName(\"Details\"); for (i=0; i<elements.length; i++) { elements[i].setAttribute(\"data-title\", \"-\"); NetworKit_toggleDetails(elements[i]); elements[i].onclick = function (e) { NetworKit_toggleDetails((e.target) ? e.target : e.srcElement); } } elements = document.getElementById(id).getElementsByClassName(\"MathValue\"); for (i=elements.length-1; i>=0; i--) { value = elements[i].innerHTML.trim(); if (value === \"nan\") { elements[i].parentNode.innerHTML = \"\" } } elements = document.getElementById(id).getElementsByClassName(\"SubCategory\"); for (i=elements.length-1; i>=0; i--) { value = elements[i].innerHTML.trim(); if (value === \"\") { elements[i].parentNode.removeChild(elements[i]) } } elements = document.getElementById(id).getElementsByClassName(\"Category\"); for (i=elements.length-1; i>=0; i--) { value = elements[i].innerHTML.trim(); if (value === \"\") { elements[i].parentNode.removeChild(elements[i]) } } var isFirefox = false; try { isFirefox = typeof InstallTrigger !== \"undefined\"; } catch (e) {} if (!isFirefox) { alert(\"Currently the function\\'s output is only fully supported by Firefox.\"); } } function NetworKit_plotUpdate(source) { var index = source.getAttribute(\"data-image-index\"); var data = source.getAttribute(\"data-image-\" + index); var image = document.getElementById(source.id + \"_Image\"); image.style.backgroundImage = \"url(\" + data + \")\"; } function NetworKit_showElement(id, show) { var element = document.getElementById(id); element.style.display = (show) ? \"block\" : \"none\"; } function NetworKit_overlayShow(source) { NetworKit_overlayUpdate(source); NetworKit_showElement(\"NetworKit_Overlay\", true); } function NetworKit_overlayUpdate(source) { document.getElementById(\"NetworKit_Overlay_Title\").innerHTML = source.title; var index = source.getAttribute(\"data-image-index\"); var data = source.getAttribute(\"data-image-\" + index); var image = document.getElementById(\"NetworKit_Overlay_Image\"); image.setAttribute(\"data-id\", source.id); image.style.backgroundImage = \"url(\" + data + \")\"; var link = document.getElementById(\"NetworKit_Overlay_Toolbar_Bottom_Save\"); link.href = data; link.download = source.title + \".svg\"; } function NetworKit_overlayImageShift(delta) { var image = document.getElementById(\"NetworKit_Overlay_Image\"); var source = document.getElementById(image.getAttribute(\"data-id\")); var index = parseInt(source.getAttribute(\"data-image-index\")); var length = parseInt(source.getAttribute(\"data-image-length\")); var index = (index+delta) % length; if (index < 0) { index = length + index; } source.setAttribute(\"data-image-index\", index); NetworKit_overlayUpdate(source); } function NetworKit_toggleDetails(source) { var childs = source.children; var show = false; if (source.getAttribute(\"data-title\") == \"-\") { source.setAttribute(\"data-title\", \"+\"); show = false; } else { source.setAttribute(\"data-title\", \"-\"); show = true; } for (i=0; i<childs.length; i++) { if (show) { childs[i].style.display = \"block\"; } else { childs[i].style.display = \"none\"; } } }';\n",
       "\t\t\t\telement.setAttribute('id', 'NetworKit_script');\n",
       "\t\t\t\tdocument.head.appendChild(element);\n",
       "\t\t\t}\n",
       "\t\t\n",
       "\t\t\t\t\n",
       "\t\t\t{\n",
       "\t\t\t\tvar element = document.getElementById('NetworKit_style');\n",
       "\t\t\t\tif (element) {\n",
       "\t\t\t\t\telement.parentNode.removeChild(element);\n",
       "\t\t\t\t}\n",
       "\t\t\t\telement = document.createElement('style');\n",
       "\t\t\t\telement.type = 'text/css';\n",
       "\t\t\t\telement.innerHTML = '.NetworKit_Page { font-family: Arial, Helvetica, sans-serif; font-size: 14px; } .NetworKit_Page .Value:before { font-family: Arial, Helvetica, sans-serif; font-size: 1.05em; content: attr(data-title) \":\"; margin-left: -2.5em; padding-right: 0.5em; } .NetworKit_Page .Details .Value:before { display: block; } .NetworKit_Page .Value { font-family: monospace; white-space: pre; padding-left: 2.5em; white-space: -moz-pre-wrap !important; white-space: -pre-wrap; white-space: -o-pre-wrap; white-space: pre-wrap; word-wrap: break-word; tab-size: 4; -moz-tab-size: 4; } .NetworKit_Page .Category { clear: both; padding-left: 1em; margin-bottom: 1.5em; } .NetworKit_Page .Category:before { content: attr(data-title); font-size: 1.75em; display: block; margin-left: -0.8em; margin-bottom: 0.5em; } .NetworKit_Page .SubCategory { margin-bottom: 1.5em; padding-left: 1em; } .NetworKit_Page .SubCategory:before { font-size: 1.6em; display: block; margin-left: -0.8em; margin-bottom: 0.5em; } .NetworKit_Page .SubCategory[data-title]:before { content: attr(data-title); } .NetworKit_Page .Block { display: block; } .NetworKit_Page .Block:after { content: \".\"; visibility: hidden; display: block; height: 0; clear: both; } .NetworKit_Page .Block .Thumbnail_Overview, .NetworKit_Page .Block .Thumbnail_ScatterPlot { width: 260px; float: left; } .NetworKit_Page .Block .Thumbnail_Overview img, .NetworKit_Page .Block .Thumbnail_ScatterPlot img { width: 260px; } .NetworKit_Page .Block .Thumbnail_Overview:before, .NetworKit_Page .Block .Thumbnail_ScatterPlot:before { display: block; text-align: center; font-weight: bold; } .NetworKit_Page .Block .Thumbnail_Overview:before { content: attr(data-title); } .NetworKit_Page .HeatCell { font-family: \"Courier New\", Courier, monospace; cursor: pointer; } .NetworKit_Page .HeatCell, .NetworKit_Page .HeatCellName { display: inline; padding: 0.1em; margin-right: 2px; background-color: #FFFFFF } .NetworKit_Page .HeatCellName { margin-left: 0.25em; } .NetworKit_Page .HeatCell:before { content: attr(data-heat); display: inline-block; color: #000000; width: 4em; text-align: center; } .NetworKit_Page .Measure { clear: both; } .NetworKit_Page .Measure .Details { cursor: pointer; } .NetworKit_Page .Measure .Details:before { content: \"[\" attr(data-title) \"]\"; display: block; } .NetworKit_Page .Measure .Details .Value { border-left: 1px dotted black; margin-left: 0.4em; padding-left: 3.5em; pointer-events: none; } .NetworKit_Page .Measure .Details .Spacer:before { content: \".\"; opacity: 0.0; pointer-events: none; } .NetworKit_Page .Measure .Plot { width: 440px; height: 440px; cursor: pointer; float: left; margin-left: -0.9em; margin-right: 20px; } .NetworKit_Page .Measure .Plot .Image { background-repeat: no-repeat; background-position: center center; background-size: contain; height: 100%; pointer-events: none; } .NetworKit_Page .Measure .Stat { width: 500px; float: left; } .NetworKit_Page .Measure .Stat .Group { padding-left: 1.25em; margin-bottom: 0.75em; } .NetworKit_Page .Measure .Stat .Group .Title { font-size: 1.1em; display: block; margin-bottom: 0.3em; margin-left: -0.75em; border-right-style: dotted; border-right-width: 1px; border-bottom-style: dotted; border-bottom-width: 1px; background-color: #D0D0D0; padding-left: 0.2em; } .NetworKit_Page .Measure .Stat .Group .List { -webkit-column-count: 3; -moz-column-count: 3; column-count: 3; } .NetworKit_Page .Measure .Stat .Group .List .Entry { position: relative; line-height: 1.75em; } .NetworKit_Page .Measure .Stat .Group .List .Entry[data-tooltip]:before { position: absolute; left: 0; top: -40px; background-color: #808080; color: #ffffff; height: 30px; line-height: 30px; border-radius: 5px; padding: 0 15px; content: attr(data-tooltip); white-space: nowrap; display: none; } .NetworKit_Page .Measure .Stat .Group .List .Entry[data-tooltip]:after { position: absolute; left: 15px; top: -10px; border-top: 7px solid #808080; border-left: 7px solid transparent; border-right: 7px solid transparent; content: \"\"; display: none; } .NetworKit_Page .Measure .Stat .Group .List .Entry[data-tooltip]:hover:after, .NetworKit_Page .Measure .Stat .Group .List .Entry[data-tooltip]:hover:before { display: block; } .NetworKit_Page .Measure .Stat .Group .List .Entry .MathValue { font-family: \"Courier New\", Courier, monospace; } .NetworKit_Page .Measure:after { content: \".\"; visibility: hidden; display: block; height: 0; clear: both; } .NetworKit_Page .PartitionPie { clear: both; } .NetworKit_Page .PartitionPie img { width: 600px; } #NetworKit_Overlay { left: 0px; top: 0px; display: none; position: absolute; width: 100%; height: 100%; background-color: rgba(0,0,0,0.6); z-index: 1000; } #NetworKit_Overlay_Title { position: absolute; color: white; transform: rotate(-90deg); width: 32em; height: 32em; padding-right: 0.5em; padding-top: 0.5em; text-align: right; font-size: 40px; } #NetworKit_Overlay .button { background: white; cursor: pointer; } #NetworKit_Overlay .button:before { size: 13px; display: inline-block; text-align: center; margin-top: 0.5em; margin-bottom: 0.5em; width: 1.5em; height: 1.5em; } #NetworKit_Overlay .icon-close:before { content: \"X\"; } #NetworKit_Overlay .icon-previous:before { content: \"P\"; } #NetworKit_Overlay .icon-next:before { content: \"N\"; } #NetworKit_Overlay .icon-save:before { content: \"S\"; } #NetworKit_Overlay_Toolbar_Top, #NetworKit_Overlay_Toolbar_Bottom { position: absolute; width: 40px; right: 13px; text-align: right; z-index: 1100; } #NetworKit_Overlay_Toolbar_Top { top: 0.5em; } #NetworKit_Overlay_Toolbar_Bottom { Bottom: 0.5em; } #NetworKit_Overlay_ImageContainer { position: absolute; top: 5%; left: 5%; height: 90%; width: 90%; background-repeat: no-repeat; background-position: center center; background-size: contain; } #NetworKit_Overlay_Image { height: 100%; width: 100%; background-repeat: no-repeat; background-position: center center; background-size: contain; }';\n",
       "\t\t\t\telement.setAttribute('id', 'NetworKit_style');\n",
       "\t\t\t\tdocument.head.appendChild(element);\n",
       "\t\t\t}\n",
       "\t\t\n",
       "\t\t\t\t\n",
       "\t\t\t{\n",
       "\t\t\t\tvar element = document.getElementById('NetworKit_Overlay');\n",
       "\t\t\t\tif (element) {\n",
       "\t\t\t\t\telement.parentNode.removeChild(element);\n",
       "\t\t\t\t}\n",
       "\t\t\t\telement = document.createElement('div');\n",
       "\t\t\t\telement.innerHTML = '<div id=\"NetworKit_Overlay_Toolbar_Top\"><div class=\"button icon-close\" id=\"NetworKit_Overlay_Close\" /></div><div id=\"NetworKit_Overlay_Title\" /> <div id=\"NetworKit_Overlay_ImageContainer\"> <div id=\"NetworKit_Overlay_Image\" /> </div> <div id=\"NetworKit_Overlay_Toolbar_Bottom\"> <div class=\"button icon-previous\" onclick=\"NetworKit_overlayImageShift(-1)\" /> <div class=\"button icon-next\" onclick=\"NetworKit_overlayImageShift(1)\" /> <a id=\"NetworKit_Overlay_Toolbar_Bottom_Save\"><div class=\"button icon-save\" /></a> </div>';\n",
       "\t\t\t\telement.setAttribute('id', 'NetworKit_Overlay');\n",
       "\t\t\t\tdocument.body.appendChild(element);\n",
       "\t\t\t\tdocument.getElementById('NetworKit_Overlay_Close').onclick = function (e) {\n",
       "\t\t\t\t\tdocument.getElementById('NetworKit_Overlay').style.display = 'none';\n",
       "\t\t\t\t}\n",
       "\t\t\t}\n",
       "\t\t\n",
       "\t\t\t-->\n",
       "\t\t\t</script>\n",
       "\t\t"
      ]
     },
     "metadata": {},
     "output_type": "display_data"
    },
    {
     "data": {
      "text/plain": [
       "0.3719499111175537"
      ]
     },
     "execution_count": 2,
     "metadata": {},
     "output_type": "execute_result"
    }
   ],
   "source": [
    "\"\"\"Benchmark dataset reader.\"\"\"\n",
    "ts = time.time()\n",
    "from littleballoffur.data_reader import GraphReader\n",
    "\n",
    "reader = GraphReader('bitcoinalpha')\n",
    "\n",
    "graph = reader.get_graph()\n",
    "time.time() - ts"
   ]
  },
  {
   "cell_type": "code",
   "execution_count": 3,
   "metadata": {},
   "outputs": [
    {
     "data": {
      "text/plain": [
       "True"
      ]
     },
     "execution_count": 3,
     "metadata": {},
     "output_type": "execute_result"
    }
   ],
   "source": [
    "nx.is_weighted(graph)"
   ]
  },
  {
   "cell_type": "markdown",
   "metadata": {},
   "source": [
    "Forest Fire Sampler"
   ]
  },
  {
   "cell_type": "code",
   "execution_count": 49,
   "metadata": {},
   "outputs": [
    {
     "name": "stdout",
     "output_type": "stream",
     "text": [
      "original graph nodes 3783\n",
      "after sampling graph nodes 750\n"
     ]
    },
    {
     "data": {
      "text/plain": [
       "0.0747520923614502"
      ]
     },
     "execution_count": 49,
     "metadata": {},
     "output_type": "execute_result"
    }
   ],
   "source": [
    "ts = time.time()\n",
    "#Random walk\n",
    "\n",
    "from littleballoffur.exploration_sampling import ForestFireSampler\n",
    "\n",
    "sampler = ForestFireSampler(number_of_nodes = 750)\n",
    "\n",
    "ff_graph = sampler.sample(graph)\n",
    "\n",
    "print('original graph nodes', len(graph.nodes))\n",
    "print('after sampling graph nodes', len(ff_graph.nodes))\n",
    "time.time() - ts"
   ]
  },
  {
   "cell_type": "code",
   "execution_count": 50,
   "metadata": {},
   "outputs": [
    {
     "data": {
      "text/plain": [
       "False"
      ]
     },
     "execution_count": 50,
     "metadata": {},
     "output_type": "execute_result"
    }
   ],
   "source": [
    "nx.is_weighted(ff_graph)"
   ]
  },
  {
   "cell_type": "markdown",
   "metadata": {},
   "source": [
    "Non Back Tracking Random Walk Sampler"
   ]
  },
  {
   "cell_type": "code",
   "execution_count": 43,
   "metadata": {},
   "outputs": [
    {
     "name": "stdout",
     "output_type": "stream",
     "text": [
      "original graph nodes 3783\n",
      "after sampling graph nodes 750\n"
     ]
    },
    {
     "data": {
      "text/plain": [
       "0.006083011627197266"
      ]
     },
     "execution_count": 43,
     "metadata": {},
     "output_type": "execute_result"
    }
   ],
   "source": [
    "ts = time.time()\n",
    "#Random walk\n",
    "\n",
    "from littleballoffur.exploration_sampling import NonBackTrackingRandomWalkSampler\n",
    "\n",
    "sampler = NonBackTrackingRandomWalkSampler(number_of_nodes = 750)\n",
    "\n",
    "nrw_graph = sampler.sample(graph)\n",
    "\n",
    "print('original graph nodes', len(graph.nodes))\n",
    "print('after sampling graph nodes', len(nrw_graph.nodes))\n",
    "time.time() - ts"
   ]
  },
  {
   "cell_type": "code",
   "execution_count": 44,
   "metadata": {},
   "outputs": [
    {
     "data": {
      "text/plain": [
       "True"
      ]
     },
     "execution_count": 44,
     "metadata": {},
     "output_type": "execute_result"
    }
   ],
   "source": [
    "nx.is_weighted(nrw_graph)"
   ]
  },
  {
   "cell_type": "markdown",
   "metadata": {},
   "source": [
    "Metropolis Hasting Random Walk Sampler"
   ]
  },
  {
   "cell_type": "code",
   "execution_count": 45,
   "metadata": {},
   "outputs": [
    {
     "name": "stdout",
     "output_type": "stream",
     "text": [
      "original graph nodes 3783\n",
      "after sampling graph nodes 750\n"
     ]
    },
    {
     "data": {
      "text/plain": [
       "0.011507272720336914"
      ]
     },
     "execution_count": 45,
     "metadata": {},
     "output_type": "execute_result"
    }
   ],
   "source": [
    "ts = time.time()\n",
    "#Random walk\n",
    "\n",
    "from littleballoffur.exploration_sampling import MetropolisHastingsRandomWalkSampler\n",
    "\n",
    "sampler = MetropolisHastingsRandomWalkSampler(number_of_nodes = 750)\n",
    "\n",
    "metropolis_graph = sampler.sample(graph)\n",
    "\n",
    "print('original graph nodes', len(graph.nodes))\n",
    "print('after sampling graph nodes', len(metropolis_graph.nodes))\n",
    "time.time() - ts"
   ]
  },
  {
   "cell_type": "code",
   "execution_count": 46,
   "metadata": {},
   "outputs": [
    {
     "data": {
      "text/plain": [
       "True"
      ]
     },
     "execution_count": 46,
     "metadata": {},
     "output_type": "execute_result"
    }
   ],
   "source": [
    "nx.is_weighted(metropolis_graph)"
   ]
  },
  {
   "cell_type": "markdown",
   "metadata": {},
   "source": [
    "Diffusion Sampler"
   ]
  },
  {
   "cell_type": "code",
   "execution_count": 39,
   "metadata": {},
   "outputs": [
    {
     "name": "stdout",
     "output_type": "stream",
     "text": [
      "original graph nodes 3783\n",
      "after sampling graph nodes 750\n"
     ]
    },
    {
     "data": {
      "text/plain": [
       "0.017863988876342773"
      ]
     },
     "execution_count": 39,
     "metadata": {},
     "output_type": "execute_result"
    }
   ],
   "source": [
    "ts = time.time()\n",
    "#Random walk\n",
    "\n",
    "from littleballoffur.exploration_sampling import DiffusionSampler\n",
    "\n",
    "sampler = DiffusionSampler(number_of_nodes = 750)\n",
    "\n",
    "diffusion_graph = sampler.sample(graph)\n",
    "\n",
    "print('original graph nodes', len(graph.nodes))\n",
    "print('after sampling graph nodes', len(diffusion_graph.nodes))\n",
    "time.time() - ts"
   ]
  },
  {
   "cell_type": "code",
   "execution_count": 40,
   "metadata": {},
   "outputs": [
    {
     "data": {
      "text/plain": [
       "True"
      ]
     },
     "execution_count": 40,
     "metadata": {},
     "output_type": "execute_result"
    }
   ],
   "source": [
    "nx.is_weighted(diffusion_graph)"
   ]
  },
  {
   "cell_type": "markdown",
   "metadata": {},
   "source": [
    "Spiky Ball Sampler"
   ]
  },
  {
   "cell_type": "code",
   "execution_count": 4,
   "metadata": {},
   "outputs": [
    {
     "name": "stdout",
     "output_type": "stream",
     "text": [
      "original graph nodes 3783\n",
      "after sampling graph nodes 750\n"
     ]
    },
    {
     "data": {
      "text/plain": [
       "1.877547025680542"
      ]
     },
     "execution_count": 4,
     "metadata": {},
     "output_type": "execute_result"
    }
   ],
   "source": [
    "ts = time.time()\n",
    "\n",
    "from littleballoffur.exploration_sampling import SpikyBallSamplerWeighted\n",
    "\n",
    "sampler = SpikyBallSamplerWeighted(number_of_nodes= 750,mode = \"hubball\")\n",
    "\n",
    "spiky_graph = sampler.sample(graph)\n",
    "\n",
    "print('original graph nodes', len(graph.nodes))\n",
    "print('after sampling graph nodes', len(spiky_graph.nodes))\n",
    "time.time() - ts"
   ]
  },
  {
   "cell_type": "code",
   "execution_count": 5,
   "metadata": {},
   "outputs": [
    {
     "data": {
      "text/plain": [
       "True"
      ]
     },
     "execution_count": 5,
     "metadata": {},
     "output_type": "execute_result"
    }
   ],
   "source": [
    "nx.is_weighted(spiky_graph)"
   ]
  },
  {
   "cell_type": "markdown",
   "metadata": {},
   "source": [
    "# Statistics"
   ]
  },
  {
   "cell_type": "code",
   "execution_count": 6,
   "metadata": {},
   "outputs": [
    {
     "name": "stdout",
     "output_type": "stream",
     "text": [
      "Average Clustering - Original:  0.1766290303590772\n",
      "-------------------------------------------------------------------\n",
      "Average Clustering - Spiky ball:  0.3026293754195666\n"
     ]
    },
    {
     "data": {
      "text/plain": [
       "0.3100321292877197"
      ]
     },
     "execution_count": 6,
     "metadata": {},
     "output_type": "execute_result"
    }
   ],
   "source": [
    "ts = time.time()\n",
    "#Original graph\n",
    "print('Average Clustering - Original: ',nx.average_clustering(graph))\n",
    "\n",
    "print('-------------------------------------------------------------------')\n",
    "#Spiky Ball\n",
    "print('Average Clustering - Spiky ball: ',nx.average_clustering(spiky_graph))\n",
    "time.time() - ts\n"
   ]
  },
  {
   "cell_type": "code",
   "execution_count": 7,
   "metadata": {},
   "outputs": [
    {
     "name": "stdout",
     "output_type": "stream",
     "text": [
      "Triangles Percentage - Original:  5.855934443563309\n",
      "-------------------------------------------------------------------\n",
      "Triangles Percentage- Spiky Ball:  15.857333333333333\n"
     ]
    },
    {
     "data": {
      "text/plain": [
       "0.33481907844543457"
      ]
     },
     "execution_count": 7,
     "metadata": {},
     "output_type": "execute_result"
    }
   ],
   "source": [
    "ts = time.time()\n",
    "#Original graph\n",
    "print('Triangles Percentage - Original: ',(sum(nx.triangles(graph).values()) / 3)/len(graph.nodes))\n",
    "\n",
    "print('-------------------------------------------------------------------')\n",
    "#Spiky Ball\n",
    "print('Triangles Percentage- Spiky Ball: ',(sum(nx.triangles(spiky_graph).values()) / 3)/len(spiky_graph.nodes))\n",
    "\n",
    "time.time() - ts\n",
    "\n"
   ]
  },
  {
   "cell_type": "code",
   "execution_count": 8,
   "metadata": {},
   "outputs": [
    {
     "name": "stdout",
     "output_type": "stream",
     "text": [
      "Size of largest connected component - Original:  3775\n",
      "-------------------------------------------------------------------\n",
      "Size of largest connected component- Spiky Ball:  735\n"
     ]
    },
    {
     "data": {
      "text/plain": [
       "0.006786823272705078"
      ]
     },
     "execution_count": 8,
     "metadata": {},
     "output_type": "execute_result"
    }
   ],
   "source": [
    "ts = time.time()\n",
    "#Original graph\n",
    "print('Size of largest connected component - Original: ',len(max(nx.connected_components(graph))))\n",
    "\n",
    "print('-------------------------------------------------------------------')\n",
    "#Spiky Ball\n",
    "print('Size of largest connected component- Spiky Ball: ',len(max(nx.connected_components(spiky_graph))))\n",
    "\n",
    "\n",
    "time.time() - ts\n"
   ]
  },
  {
   "cell_type": "code",
   "execution_count": 9,
   "metadata": {},
   "outputs": [
    {
     "name": "stdout",
     "output_type": "stream",
     "text": [
      "Degree Assortativity Coefficient - Original:  -0.16851576112150454\n",
      "-------------------------------------------------------------------\n",
      "Degree Assortativity Coefficient - Spiky Ball:  -0.2736420841298842\n"
     ]
    },
    {
     "data": {
      "text/plain": [
       "0.23311901092529297"
      ]
     },
     "execution_count": 9,
     "metadata": {},
     "output_type": "execute_result"
    }
   ],
   "source": [
    "ts = time.time()\n",
    "#Original graph\n",
    "print('Degree Assortativity Coefficient - Original: ',nx.degree_assortativity_coefficient(graph))\n",
    "\n",
    "print('-------------------------------------------------------------------')\n",
    "\n",
    "#Spiky Ball\n",
    "print('Degree Assortativity Coefficient - Spiky Ball: ',nx.degree_assortativity_coefficient(spiky_graph))\n",
    "\n",
    "time.time() - ts\n",
    "\n"
   ]
  },
  {
   "cell_type": "markdown",
   "metadata": {},
   "source": [
    "# Matching Patterns / Plots"
   ]
  },
  {
   "cell_type": "code",
   "execution_count": 10,
   "metadata": {},
   "outputs": [],
   "source": [
    "def degree_distributon(G):\n",
    "    degree_sequence = sorted([d for n, d in G.degree()], reverse=True)\n",
    "    degreeCount = collections.Counter(degree_sequence)\n",
    "    deg, cnt = zip(*degreeCount.items())\n",
    "\n",
    "    return deg,cnt"
   ]
  },
  {
   "cell_type": "code",
   "execution_count": 11,
   "metadata": {},
   "outputs": [
    {
     "data": {
      "text/plain": [
       "0.005202054977416992"
      ]
     },
     "execution_count": 11,
     "metadata": {},
     "output_type": "execute_result"
    }
   ],
   "source": [
    "ts = time.time()\n",
    "#Original \n",
    "deg,cnt = degree_distributon(graph)\n",
    "\n",
    "#Random Walk\n",
    "deg1,cnt1 = degree_distributon(spiky_graph)\n",
    "\n",
    "time.time() - ts"
   ]
  },
  {
   "cell_type": "code",
   "execution_count": 12,
   "metadata": {},
   "outputs": [
    {
     "data": {
      "text/plain": [
       "Text(0.5, 0, 'Degree')"
      ]
     },
     "execution_count": 12,
     "metadata": {},
     "output_type": "execute_result"
    },
    {
     "data": {
      "image/png": "[encoded data removed]",
      "text/plain": [
       "<Figure size 1200x800 with 1 Axes>"
      ]
     },
     "metadata": {},
     "output_type": "display_data"
    }
   ],
   "source": [
    "plt.figure(figsize=(12, 8))\n",
    "plt.loglog(deg, cnt, 'r-', label='original')\n",
    "plt.loglog(deg1,cnt1, 'b-', label='SpikyBall')\n",
    "\n",
    "plt.legend(['Original','SpikyBall','FF/SNOW','SP'])\n",
    "plt.title(\"Degree Distribution\")\n",
    "plt.ylabel(\"Frequency\")\n",
    "plt.yscale('log')\n",
    "# plt.xscale('log')\n",
    "plt.xlabel(\"Degree\")"
   ]
  },
  {
   "cell_type": "code",
   "execution_count": 13,
   "metadata": {},
   "outputs": [],
   "source": [
    "# def degree_clustering(G):\n",
    "#    degree = G.degree()\n",
    "#    degree_list,degrees,clustering_list = [],[],[]\n",
    "#    for n,m in degree:\n",
    "#       degree_list.append(m)\n",
    "#    degree_list\n",
    "#    degree_np = np.asarray(sorted(degree_list))\n",
    "  \n",
    "\n",
    "#    for k in range(len(np.unique(degree_np))):\n",
    "#       nodes_degree_k = ([u for u in G.nodes() if G.degree(u) == k])\n",
    "#       if len(nodes_degree_k) != 0:\n",
    "#          clustering_coeff = nx.average_clustering(G, nodes_degree_k)\n",
    "#          degrees.append(k)\n",
    "#          clustering_list.append(clustering_coeff)\n",
    "#       nodes_degree_k = []\n",
    "         \n",
    "#    return degrees,clustering_list \n",
    "\n",
    "\n",
    "def degree_clustering(original, sample):\n",
    "   degree = sample.degree()\n",
    "   degree_list,degrees,clustering_list,kstest = [],[],[],[]\n",
    "   \n",
    "   for n,m in degree:\n",
    "      degree_list.append(m)\n",
    "   degree_list\n",
    "   degree_np = np.asarray(sorted(degree_list))\n",
    "  \n",
    "\n",
    "   for k in range(len(np.unique(degree_np))):\n",
    "      sample_nodes_degree_k = ([u for u in sample.nodes() if sample.degree(u) == k])\n",
    "      if len(sample_nodes_degree_k) != 0:\n",
    "        sample_clustering_coef = nx.clustering(sample, sample_nodes_degree_k)\n",
    "        original_nodes_degree_k = ([u for u in original.nodes() if original.degree(u) == k])\n",
    "        original_clustering_coef = nx.clustering(original, original_nodes_degree_k)\n",
    "        avg_clustering_coeff = nx.average_clustering(sample, sample_nodes_degree_k)\n",
    "\n",
    "        original_clustering_coef = np.fromiter(original_clustering_coef.values(), dtype=float)\n",
    "        \n",
    "        sample_clustering_coef = np.fromiter(sample_clustering_coef.values(), dtype=float)\n",
    "        \n",
    "        if len(original_clustering_coef) != 0:\n",
    "         if len(sample_clustering_coef) != 0:\n",
    "            ks_test = stats.ks_2samp(preprocessing.scale(original_clustering_coef), preprocessing.scale(sample_clustering_coef))[0]\n",
    "\n",
    "            kstest.append(ks_test)\n",
    "        degrees.append(k)\n",
    "        clustering_list.append(avg_clustering_coeff)\n",
    "      nodes_degree_k = []\n",
    "    \n",
    "   avg_kstest = np.average(kstest)\n",
    "         \n",
    "   return degrees,clustering_list,avg_kstest "
   ]
  },
  {
   "cell_type": "code",
   "execution_count": 14,
   "metadata": {},
   "outputs": [
    {
     "data": {
      "text/plain": [
       "1.3468029499053955"
      ]
     },
     "execution_count": 14,
     "metadata": {},
     "output_type": "execute_result"
    }
   ],
   "source": [
    "ts = time.time()\n",
    "degrees,clustering_list,avg_kstest = degree_clustering(graph,graph)\n",
    "degrees1,clustering_list1,avg_kstest1 = degree_clustering(graph,spiky_graph)\n",
    "\n",
    "time.time() - ts"
   ]
  },
  {
   "cell_type": "code",
   "execution_count": 15,
   "metadata": {},
   "outputs": [
    {
     "data": {
      "text/plain": [
       "Text(0.5, 0, 'Node Degree')"
      ]
     },
     "execution_count": 15,
     "metadata": {},
     "output_type": "execute_result"
    },
    {
     "data": {
      "image/png": "[encoded data removed]",
      "text/plain": [
       "<Figure size 640x480 with 1 Axes>"
      ]
     },
     "metadata": {},
     "output_type": "display_data"
    }
   ],
   "source": [
    "z = np.polyfit(degrees, clustering_list,2)\n",
    "p = np.poly1d(z)\n",
    "plt.plot(degrees,p(degrees),\"red\")\n",
    "\n",
    "z = np.polyfit(degrees1, clustering_list1,2)\n",
    "p = np.poly1d(z)\n",
    "plt.plot(degrees1,p(degrees1),\"blue\")\n",
    "\n",
    "\n",
    "\n",
    "plt.legend(['Original','Spiky Ball','FF/SNOW','SP'])\n",
    "plt.title(\"Clustering Coefficient per Degree\")\n",
    "plt.ylabel(\"Clus.Coef.\")\n",
    "# plt.xscale('log')\n",
    "plt.yscale('log')\n",
    "plt.xlabel(\"Node Degree\")"
   ]
  },
  {
   "cell_type": "code",
   "execution_count": 16,
   "metadata": {},
   "outputs": [],
   "source": [
    "def average_degree_neighbor(original, sample):\n",
    "   degree = sample.degree()\n",
    "   degree_list,degrees,neighbor_list,kstest = [],[],[],[]\n",
    "   for n,m in degree:\n",
    "      degree_list.append(m)\n",
    "   degree_list\n",
    "   degree_np = np.asarray(sorted(degree_list))\n",
    "  \n",
    "\n",
    "   for k in range(len(np.unique(degree_np))):\n",
    "      nodes_degree_k = ([u for u in sample.nodes() if sample.degree(u) == k])\n",
    "      # print(nodes_degree_k)\n",
    "      if len(nodes_degree_k) != 0:\n",
    "         sample_aver_neighbor_deg = nx.average_neighbor_degree( sample , nodes = nodes_degree_k)\n",
    "\n",
    "         original_nodes_degree_k = ([u for u in original.nodes() if original.degree(u) == k])\n",
    "         original_aver_neighbor_deg = nx.average_neighbor_degree( original , nodes = original_nodes_degree_k)\n",
    "\n",
    "\n",
    "         original_avg_neighbor_degree = np.fromiter(original_aver_neighbor_deg.values(), dtype=float)\n",
    "         sample_aver_neighbor_deg = np.fromiter(sample_aver_neighbor_deg.values(), dtype=float)\n",
    "\n",
    "         if len(original_avg_neighbor_degree) != 0:\n",
    "            if len(sample_aver_neighbor_deg) != 0:\n",
    "               ks_test = stats.ks_2samp(preprocessing.scale(original_avg_neighbor_degree), preprocessing.scale(sample_aver_neighbor_deg))[0]\n",
    "         \n",
    "               kstest.append(ks_test)\n",
    "\n",
    "         list_avg = mean(sample_aver_neighbor_deg) \n",
    "         degrees.append(k)\n",
    "         neighbor_list.append(list_avg)\n",
    "      nodes_degree_k = []\n",
    "   \n",
    "   kstest_neighbor_degree = np.average(kstest)\n",
    "         \n",
    "   return degrees,neighbor_list,kstest_neighbor_degree"
   ]
  },
  {
   "cell_type": "code",
   "execution_count": 17,
   "metadata": {},
   "outputs": [
    {
     "data": {
      "text/plain": [
       "1.0656840801239014"
      ]
     },
     "execution_count": 17,
     "metadata": {},
     "output_type": "execute_result"
    }
   ],
   "source": [
    "ts = time.time()\n",
    "degrees,neighbor_list,kstest_neighbor_degree = average_degree_neighbor(graph,graph)\n",
    "degrees1,neighbor_list1,kstest_neighbor_degree1 = average_degree_neighbor(graph,spiky_graph)\n",
    "time.time() - ts"
   ]
  },
  {
   "cell_type": "code",
   "execution_count": 18,
   "metadata": {},
   "outputs": [
    {
     "data": {
      "text/plain": [
       "Text(0.5, 0, 'Node Degree')"
      ]
     },
     "execution_count": 18,
     "metadata": {},
     "output_type": "execute_result"
    },
    {
     "data": {
      "image/png": "[encoded data removed]",
      "text/plain": [
       "<Figure size 640x480 with 1 Axes>"
      ]
     },
     "metadata": {},
     "output_type": "display_data"
    }
   ],
   "source": [
    "z = np.polyfit(degrees, neighbor_list,2)\n",
    "p = np.poly1d(z)\n",
    "plt.plot(degrees,p(degrees),\"r\")\n",
    "\n",
    "z = np.polyfit(degrees1, neighbor_list1,2)\n",
    "p = np.poly1d(z)\n",
    "plt.plot(degrees1,p(degrees1),\"black\")\n",
    "\n",
    "plt.legend(['Original','RW/Non - RW','SP', 'FF/SNOW'])\n",
    "plt.title(\"Average Neighbor Degree per Node Degree\")\n",
    "plt.ylabel(\"Average Neighbor Degree\")\n",
    "# plt.xscale('log')\n",
    "plt.yscale('log')\n",
    "plt.xlabel(\"Node Degree\")"
   ]
  },
  {
   "cell_type": "markdown",
   "metadata": {},
   "source": [
    "# KOLMOGOROV-SMIRNOV TEST"
   ]
  },
  {
   "cell_type": "markdown",
   "metadata": {},
   "source": [
    "KS-TEST FOR AVERAGE CLUSTERING COEFFICIENT PER NODE DEGREE"
   ]
  },
  {
   "cell_type": "code",
   "execution_count": 19,
   "metadata": {},
   "outputs": [
    {
     "name": "stdout",
     "output_type": "stream",
     "text": [
      "RW --->  0.31695372130280874\n"
     ]
    }
   ],
   "source": [
    "print(\"RW ---> \", avg_kstest1)"
   ]
  },
  {
   "cell_type": "markdown",
   "metadata": {},
   "source": [
    "KS-TEST FOR AVERAGE NEIGHBORHOOD DEGREE PER NODE DEGREE"
   ]
  },
  {
   "cell_type": "code",
   "execution_count": 20,
   "metadata": {},
   "outputs": [
    {
     "name": "stdout",
     "output_type": "stream",
     "text": [
      "RW --->  0.2916937945560268\n"
     ]
    }
   ],
   "source": [
    "print(\"RW ---> \", kstest_neighbor_degree1)"
   ]
  }
 ],
 "metadata": {
  "kernelspec": {
   "display_name": "Python 3.10.4 ('snacs')",
   "language": "python",
   "name": "python3"
  },
  "language_info": {
   "codemirror_mode": {
    "name": "ipython",
    "version": 3
   },
   "file_extension": ".py",
   "mimetype": "text/x-python",
   "name": "python",
   "nbconvert_exporter": "python",
   "pygments_lexer": "ipython3",
   "version": "3.10.4"
  },
  "orig_nbformat": 4,
  "vscode": {
   "interpreter": {
    "hash": "4f3b8f08283fd47419890b63bd6aba7d477bc1d1dd10a4488ca2943378e61658"
   }
  }
 },
 "nbformat": 4,
 "nbformat_minor": 2
}
