{
 "cells": [
  {
   "cell_type": "code",
   "execution_count": 62,
   "metadata": {},
   "outputs": [],
   "source": [
    "import collections\n",
    "import matplotlib.pyplot as plt"
   ]
  },
  {
   "cell_type": "code",
   "execution_count": 54,
   "metadata": {},
   "outputs": [],
   "source": [
    "\"\"\"Benchmark dataset reader.\"\"\"\n",
    "\n",
    "from littleballoffur.data_reader import GraphReader\n",
    "\n",
    "reader = GraphReader(\"facebook\")\n",
    "\n",
    "graph = reader.get_graph()\n"
   ]
  },
  {
   "cell_type": "markdown",
   "metadata": {},
   "source": [
    "Random Walk Sampler"
   ]
  },
  {
   "cell_type": "code",
   "execution_count": 55,
   "metadata": {},
   "outputs": [
    {
     "name": "stdout",
     "output_type": "stream",
     "text": [
      "original graph nodes 22470\n",
      "after sampling graph nodes 10000\n"
     ]
    }
   ],
   "source": [
    "#Random walk\n",
    "\n",
    "import networkx as nx\n",
    "\n",
    "from littleballoffur.exploration_sampling import RandomWalkSampler\n",
    "\n",
    "sampler = RandomWalkSampler(10000)\n",
    "\n",
    "rw_graph = sampler.sample(graph)\n",
    "\n",
    "print('original graph nodes', len(graph.nodes))\n",
    "print('after sampling graph nodes', len(rw_graph.nodes))"
   ]
  },
  {
   "cell_type": "markdown",
   "metadata": {},
   "source": [
    "Non Back Tracking Random Walk"
   ]
  },
  {
   "cell_type": "code",
   "execution_count": 15,
   "metadata": {},
   "outputs": [
    {
     "name": "stdout",
     "output_type": "stream",
     "text": [
      "original graph nodes 22470\n",
      "after sampling graph nodes 10000\n"
     ]
    }
   ],
   "source": [
    "\"\"\"Non back-tracking random walk sampler example\"\"\"\n",
    "\n",
    "import networkx as nx\n",
    "from littleballoffur.exploration_sampling import NonBackTrackingRandomWalkSampler\n",
    "\n",
    "\n",
    "sampler = NonBackTrackingRandomWalkSampler(10000)\n",
    "\n",
    "nrw_graph = sampler.sample(graph)\n",
    "\n",
    "print('original graph nodes', len(graph.nodes))\n",
    "print('after sampling graph nodes', len(nrw_graph.nodes))"
   ]
  },
  {
   "cell_type": "markdown",
   "metadata": {},
   "source": [
    "Forest Fire Sampler"
   ]
  },
  {
   "cell_type": "code",
   "execution_count": 12,
   "metadata": {},
   "outputs": [
    {
     "name": "stdout",
     "output_type": "stream",
     "text": [
      "original graph nodes 22470\n",
      "after sampling graph nodes 10000\n"
     ]
    }
   ],
   "source": [
    "\n",
    "\"\"\"Forest fire sampler example\"\"\"\n",
    "\n",
    "import networkx as nx\n",
    "\n",
    "from littleballoffur.exploration_sampling import ForestFireSampler\n",
    "\n",
    "sampler = ForestFireSampler(10000)\n",
    "\n",
    "ff_graph = sampler.sample(graph)\n",
    "\n",
    "print('original graph nodes', len(graph.nodes))\n",
    "print('after sampling graph nodes', len(ff_graph.nodes))"
   ]
  },
  {
   "cell_type": "markdown",
   "metadata": {},
   "source": [
    "Shortest Path Sampler"
   ]
  },
  {
   "cell_type": "code",
   "execution_count": 13,
   "metadata": {},
   "outputs": [
    {
     "name": "stdout",
     "output_type": "stream",
     "text": [
      "original graph nodes 22470\n",
      "after sampling graph nodes 10000\n"
     ]
    }
   ],
   "source": [
    "\"\"\"Shortest path sampler example\"\"\"\n",
    "\n",
    "import networkx as nx\n",
    "\n",
    "from littleballoffur.exploration_sampling import ShortestPathSampler\n",
    "\n",
    "\n",
    "sampler = ShortestPathSampler(10000)\n",
    "\n",
    "sp_graph = sampler.sample(graph)\n",
    "\n",
    "print('original graph nodes', len(graph.nodes))\n",
    "print('after sampling graph nodes', len(sp_graph.nodes))"
   ]
  },
  {
   "cell_type": "markdown",
   "metadata": {},
   "source": [
    "Snow Ball Sampler"
   ]
  },
  {
   "cell_type": "code",
   "execution_count": 14,
   "metadata": {},
   "outputs": [
    {
     "name": "stdout",
     "output_type": "stream",
     "text": [
      "original graph nodes 22470\n",
      "after sampling graph nodes 10000\n"
     ]
    }
   ],
   "source": [
    "\"\"\"Snow ball sampler example\"\"\"\n",
    "\n",
    "import networkx as nx\n",
    "\n",
    "from littleballoffur.exploration_sampling import SnowBallSampler\n",
    "\n",
    "\n",
    "sampler = SnowBallSampler(10000)\n",
    "\n",
    "snow_graph = sampler.sample(graph)\n",
    "\n",
    "print('original graph nodes', len(graph.nodes))\n",
    "print('after sampling graph nodes', len(snow_graph.nodes))"
   ]
  },
  {
   "cell_type": "markdown",
   "metadata": {},
   "source": [
    "Statistics"
   ]
  },
  {
   "cell_type": "code",
   "execution_count": 17,
   "metadata": {},
   "outputs": [
    {
     "name": "stdout",
     "output_type": "stream",
     "text": [
      "Average Clustering - Original:  0.3597383824426942\n",
      "-------------------------------------------------------------------\n",
      "Average Clustering - Random Walk:  0.4267055227143479\n",
      "Average Clustering - Non back Tracking Random Walk:  0.4177505070142268\n",
      "Average Clustering - Forest Fire:  0.39246228658476545\n",
      "Average Clustering - Shortest Path:  0.3129128253290514\n",
      "Average Clustering - Snow Ball:  0.3973117870487354\n"
     ]
    }
   ],
   "source": [
    "#Original graph\n",
    "print('Average Clustering - Original: ',nx.average_clustering(graph))\n",
    "\n",
    "print('-------------------------------------------------------------------')\n",
    "#Random Walk\n",
    "print('Average Clustering - Random Walk: ',nx.average_clustering(rw_graph))\n",
    "\n",
    "#Non Back tracking Random Walk\n",
    "print('Average Clustering - Non back Tracking Random Walk: ',nx.average_clustering(nrw_graph))\n",
    "\n",
    "#Forest Fire\n",
    "print('Average Clustering - Forest Fire: ',nx.average_clustering(ff_graph))\n",
    "\n",
    "#Shortest Path\n",
    "print('Average Clustering - Shortest Path: ',nx.average_clustering(sp_graph))\n",
    "\n",
    "#Snow Ball\n",
    "print('Average Clustering - Snow Ball: ',nx.average_clustering(snow_graph))\n",
    "\n"
   ]
  },
  {
   "cell_type": "code",
   "execution_count": 26,
   "metadata": {},
   "outputs": [
    {
     "data": {
      "text/plain": [
       "0.0023450945094509452"
      ]
     },
     "execution_count": 26,
     "metadata": {},
     "output_type": "execute_result"
    }
   ],
   "source": []
  },
  {
   "cell_type": "code",
   "execution_count": 37,
   "metadata": {},
   "outputs": [
    {
     "name": "stdout",
     "output_type": "stream",
     "text": [
      "Triangles Percentage - Original:  35.37841566533155\n",
      "-------------------------------------------------------------------\n",
      "Triangles Percentage- Random Walk:  68.4626\n",
      "Triangles Percentage - Non back Tracking Random Walk:  66.1708\n",
      "Triangles Percentage - Forest Fire:  56.6966\n",
      "Triangles Percentage - Shortest Path:  20.2804\n",
      "Triangles Percentage - Snow Ball:  62.9623\n"
     ]
    }
   ],
   "source": [
    "#Original graph\n",
    "print('Triangles Percentage - Original: ',(sum(nx.triangles(graph).values()) / 3)/len(graph.nodes))\n",
    "\n",
    "print('-------------------------------------------------------------------')\n",
    "#Random Walk\n",
    "print('Triangles Percentage- Random Walk: ',(sum(nx.triangles(rw_graph).values()) / 3)/len(rw_graph.nodes))\n",
    "\n",
    "#Non Back tracking Random Walk\n",
    "print('Triangles Percentage - Non back Tracking Random Walk: ',(sum(nx.triangles(nrw_graph).values()) / 3)/len(nrw_graph.nodes))\n",
    "\n",
    "#Forest Fire\n",
    "print('Triangles Percentage - Forest Fire: ',(sum(nx.triangles(ff_graph).values()) / 3)/len(ff_graph.nodes))\n",
    "\n",
    "#Shortest Path\n",
    "print('Triangles Percentage - Shortest Path: ',(sum(nx.triangles(sp_graph).values()) / 3)/len(sp_graph.nodes))\n",
    "\n",
    "#Snow Ball\n",
    "print('Triangles Percentage - Snow Ball: ',(sum(nx.triangles(snow_graph).values()) / 3)/len(snow_graph.nodes))\n",
    "\n"
   ]
  },
  {
   "cell_type": "code",
   "execution_count": 31,
   "metadata": {},
   "outputs": [
    {
     "name": "stdout",
     "output_type": "stream",
     "text": [
      "Size of largest connected component - Original:  22470\n",
      "-------------------------------------------------------------------\n",
      "Size of largest connected component- Random Walk:  10000\n",
      "Size of largest connected component - Non back Tracking Random Walk:  10000\n",
      "Size of largest connected component - Forest Fire:  10000\n",
      "Size of largest connected component - Shortest Path:  10000\n",
      "Size of largest connected component - Snow Ball:  10000\n"
     ]
    }
   ],
   "source": [
    "#Original graph\n",
    "print('Size of largest connected component - Original: ',len(max(nx.connected_components(graph))))\n",
    "\n",
    "print('-------------------------------------------------------------------')\n",
    "#Random Walk\n",
    "print('Size of largest connected component- Random Walk: ',len(max(nx.connected_components(rw_graph))))\n",
    "\n",
    "#Non Back tracking Random Walk\n",
    "print('Size of largest connected component - Non back Tracking Random Walk: ',len(max(nx.connected_components(nrw_graph))))\n",
    "\n",
    "#Forest Fire\n",
    "print('Size of largest connected component - Forest Fire: ',len(max(nx.connected_components(ff_graph))))\n",
    "\n",
    "#Shortest Path\n",
    "print('Size of largest connected component - Shortest Path: ',len(max(nx.connected_components(sp_graph))))\n",
    "\n",
    "#Snow Ball\n",
    "print('Size of largest connected component - Snow Ball: ',len(max(nx.connected_components(snow_graph))))\n"
   ]
  },
  {
   "cell_type": "code",
   "execution_count": 40,
   "metadata": {},
   "outputs": [
    {
     "name": "stdout",
     "output_type": "stream",
     "text": [
      "1\n"
     ]
    }
   ],
   "source": [
    "print((nx.number_connected_components(graph)))"
   ]
  },
  {
   "cell_type": "code",
   "execution_count": 43,
   "metadata": {},
   "outputs": [],
   "source": [
    "# nx.average_node_connectivity(graph)"
   ]
  },
  {
   "cell_type": "code",
   "execution_count": 45,
   "metadata": {},
   "outputs": [
    {
     "name": "stdout",
     "output_type": "stream",
     "text": [
      "Degree Assortativity Coefficient - Original:  0.08505802105736311\n",
      "-------------------------------------------------------------------\n",
      "Degree Assortativity Coefficient - Random Walk:  0.07821147053612659\n",
      "Degree Assortativity Coefficient - Non back Tracking Random Walk:  0.08111119373116547\n",
      "Degree Assortativity Coefficient - Forest Fire:  0.0790590755541251\n",
      "Degree Assortativity Coefficient - Shortest Path:  0.11098957759987513\n",
      "Degree Assortativity Coefficient - Snow Ball:  0.04753492676433928\n"
     ]
    }
   ],
   "source": [
    "#Original graph\n",
    "print('Degree Assortativity Coefficient - Original: ',nx.degree_assortativity_coefficient(graph))\n",
    "\n",
    "print('-------------------------------------------------------------------')\n",
    "\n",
    "#Random Walk\n",
    "print('Degree Assortativity Coefficient - Random Walk: ',nx.degree_assortativity_coefficient(rw_graph))\n",
    "\n",
    "#Non Back tracking Random Walk\n",
    "print('Degree Assortativity Coefficient - Non back Tracking Random Walk: ',nx.degree_assortativity_coefficient(nrw_graph))\n",
    "\n",
    "#Forest Fire\n",
    "print('Degree Assortativity Coefficient - Forest Fire: ',nx.degree_assortativity_coefficient(ff_graph))\n",
    "\n",
    "#Shortest Path\n",
    "print('Degree Assortativity Coefficient - Shortest Path: ',nx.degree_assortativity_coefficient(sp_graph))\n",
    "\n",
    "#Snow Ball\n",
    "print('Degree Assortativity Coefficient - Snow Ball: ',nx.degree_assortativity_coefficient(snow_graph))\n",
    "\n"
   ]
  },
  {
   "cell_type": "code",
   "execution_count": 48,
   "metadata": {},
   "outputs": [],
   "source": [
    "# nx.diameter(graph)"
   ]
  },
  {
   "cell_type": "code",
   "execution_count": 51,
   "metadata": {},
   "outputs": [
    {
     "ename": "AttributeError",
     "evalue": "'Graph' object has no attribute 'in_degree'",
     "output_type": "error",
     "traceback": [
      "\u001b[1;31m---------------------------------------------------------------------------\u001b[0m",
      "\u001b[1;31mAttributeError\u001b[0m                            Traceback (most recent call last)",
      "Cell \u001b[1;32mIn [51], line 1\u001b[0m\n\u001b[1;32m----> 1\u001b[0m graph\u001b[39m.\u001b[39;49min_degree()\n",
      "\u001b[1;31mAttributeError\u001b[0m: 'Graph' object has no attribute 'in_degree'"
     ]
    }
   ],
   "source": [
    "graph.in_degree()"
   ]
  },
  {
   "cell_type": "markdown",
   "metadata": {},
   "source": [
    "Matching Patterns"
   ]
  },
  {
   "cell_type": "code",
   "execution_count": 56,
   "metadata": {},
   "outputs": [],
   "source": [
    "def indegree_distributon(G):\n",
    "    indegree_sequence = sorted([d for n, d in G.degree()], reverse=True)\n",
    "    indegreeCount = collections.Counter(indegree_sequence)\n",
    "    indeg, cnt = zip(*indegreeCount.items())\n",
    "\n",
    "    return indeg,cnt\n",
    "\n"
   ]
  },
  {
   "cell_type": "code",
   "execution_count": 59,
   "metadata": {},
   "outputs": [],
   "source": [
    "#Original \n",
    "indeg,cnt = indegree_distributon(graph)\n",
    "\n",
    "#Random Walk\n",
    "indeg1,cnt1 = indegree_distributon(rw_graph)\n",
    "\n",
    "#Non Back tracking Random Walk\n",
    "indeg2,cnt2 = indegree_distributon(nrw_graph)\n",
    "\n",
    "#Forest Fire\n",
    "indeg3,cnt3 = indegree_distributon(ff_graph)\n",
    "\n",
    "#Shortest Path\n",
    "indeg4,cnt4 = indegree_distributon(sp_graph)\n",
    "\n",
    "#Snow Ball\n",
    "indeg5,cnt5 = indegree_distributon(snow_graph)"
   ]
  },
  {
   "cell_type": "code",
   "execution_count": 74,
   "metadata": {},
   "outputs": [
    {
     "data": {
      "text/plain": [
       "Text(0.5, 0, 'InDegree')"
      ]
     },
     "execution_count": 74,
     "metadata": {},
     "output_type": "execute_result"
    },
    {
     "data": {
      "image/png": "[encoded data removed]",
      "text/plain": [
       "<Figure size 640x480 with 1 Axes>"
      ]
     },
     "metadata": {},
     "output_type": "display_data"
    }
   ],
   "source": [
    "  \n",
    "fig, ax = plt.subplots()\n",
    "# plt.bar(indeg, cnt, width=0.80, color='g')\n",
    "# plt.bar(indeg1, cnt, width=0.80, color='g')\n",
    "\n",
    "plt.loglog(indeg, cnt, 'r-', label='original')\n",
    "plt.loglog(indeg1,cnt1, 'b-', label='RW')\n",
    "plt.loglog(indeg2,cnt2,'g-', label='Non -RW')\n",
    "plt.loglog(indeg3, cnt3, 'k-', label='FF')\n",
    "plt.loglog(indeg4, cnt4, 'm-', label='SP')\n",
    "plt.loglog(indeg5, cnt5, 'y-', label='SNOW')\n",
    "plt.title(\"Indegree Distribution\")\n",
    "plt.ylabel(\"Frequency\")\n",
    "plt.yscale('log')\n",
    "plt.xlabel(\"InDegree\")"
   ]
  },
  {
   "cell_type": "code",
   "execution_count": null,
   "metadata": {},
   "outputs": [],
   "source": [
    "\n"
   ]
  }
 ],
 "metadata": {
  "kernelspec": {
   "display_name": "Python 3.10.4 ('snacs')",
   "language": "python",
   "name": "python3"
  },
  "language_info": {
   "codemirror_mode": {
    "name": "ipython",
    "version": 3
   },
   "file_extension": ".py",
   "mimetype": "text/x-python",
   "name": "python",
   "nbconvert_exporter": "python",
   "pygments_lexer": "ipython3",
   "version": "3.10.4"
  },
  "orig_nbformat": 4,
  "vscode": {
   "interpreter": {
    "hash": "c47393c2b0c7d000db9982f2c4a08d18e4c03f4084a454273dd7a10f8a048227"
   }
  }
 },
 "nbformat": 4,
 "nbformat_minor": 2
}
