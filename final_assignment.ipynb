{
 "cells": [
  {
   "cell_type": "code",
   "execution_count": 39,
   "metadata": {},
   "outputs": [],
   "source": [
    "\"\"\"Benchmark dataset reader.\"\"\"\n",
    "\n",
    "from littleballoffur.data_reader import GraphReader\n",
    "\n",
    "reader = GraphReader(\"facebook\")\n",
    "\n",
    "graph = reader.get_graph()"
   ]
  },
  {
   "cell_type": "code",
   "execution_count": 54,
   "metadata": {},
   "outputs": [],
   "source": [
    "\"\"\"Random edge sampler example.\"\"\"\n",
    "\n",
    "import networkx as nx\n",
    "# from littleballoffur.exploration_sampling import ForestFireSampler\n",
    "from littleballoffur.edge_sampling import RandomEdgeSampler\n",
    "\n",
    "\n",
    "# graph = nx.watts_strogatz_graph(50000, 10, 0)\n",
    "\n",
    "sampler = RandomEdgeSampler(20000)\n",
    "\n",
    "new_graph = sampler.sample(graph)"
   ]
  },
  {
   "cell_type": "code",
   "execution_count": 55,
   "metadata": {},
   "outputs": [
    {
     "name": "stdout",
     "output_type": "stream",
     "text": [
      "original graph nodes 22470\n",
      "after sampling graph nodes 13020\n"
     ]
    }
   ],
   "source": [
    "print('original graph nodes', len(graph.nodes))\n",
    "print('after sampling graph nodes', len(new_graph.nodes))"
   ]
  }
 ],
 "metadata": {
  "kernelspec": {
   "display_name": "snacs",
   "language": "python",
   "name": "python3"
  },
  "language_info": {
   "codemirror_mode": {
    "name": "ipython",
    "version": 3
   },
   "file_extension": ".py",
   "mimetype": "text/x-python",
   "name": "python",
   "nbconvert_exporter": "python",
   "pygments_lexer": "ipython3",
   "version": "3.10.4 | packaged by conda-forge | (main, Mar 30 2022, 08:38:02) [MSC v.1916 64 bit (AMD64)]"
  },
  "orig_nbformat": 4,
  "vscode": {
   "interpreter": {
    "hash": "c47393c2b0c7d000db9982f2c4a08d18e4c03f4084a454273dd7a10f8a048227"
   }
  }
 },
 "nbformat": 4,
 "nbformat_minor": 2
}
