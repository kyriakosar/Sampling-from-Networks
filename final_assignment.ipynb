{
 "cells": [
  {
   "cell_type": "code",
   "execution_count": 2,
   "metadata": {},
   "outputs": [
    {
     "ename": "ImportError",
     "evalue": "cannot import name 'DiffusionSampler' from 'littleballoffur' (unknown location)",
     "output_type": "error",
     "traceback": [
      "\u001b[1;31m---------------------------------------------------------------------------\u001b[0m",
      "\u001b[1;31mImportError\u001b[0m                               Traceback (most recent call last)",
      "Cell \u001b[1;32mIn [2], line 2\u001b[0m\n\u001b[0;32m      1\u001b[0m \u001b[39mimport\u001b[39;00m \u001b[39mnetworkx\u001b[39;00m \u001b[39mas\u001b[39;00m \u001b[39mnx\u001b[39;00m\n\u001b[1;32m----> 2\u001b[0m \u001b[39mfrom\u001b[39;00m \u001b[39mlittleballoffur\u001b[39;00m \u001b[39mimport\u001b[39;00m DiffusionSampler\n\u001b[0;32m      4\u001b[0m graph \u001b[39m=\u001b[39m nx\u001b[39m.\u001b[39mnewman_watts_strogatz_graph(\u001b[39m1000\u001b[39m, \u001b[39m20\u001b[39m, \u001b[39m0.05\u001b[39m)\n\u001b[0;32m      6\u001b[0m sampler \u001b[39m=\u001b[39m DiffusionSampler()\n",
      "\u001b[1;31mImportError\u001b[0m: cannot import name 'DiffusionSampler' from 'littleballoffur' (unknown location)"
     ]
    }
   ],
   "source": [
    "import networkx as nx\n",
    "from littleballoffur import DiffusionSampler\n",
    "\n",
    "graph = nx.newman_watts_strogatz_graph(1000, 20, 0.05)\n",
    "\n",
    "sampler = DiffusionSampler()\n",
    "\n",
    "new_graph = sampler.sample(graph)"
   ]
  }
 ],
 "metadata": {
  "kernelspec": {
   "display_name": "Python 3.10.4 ('snacs')",
   "language": "python",
   "name": "python3"
  },
  "language_info": {
   "codemirror_mode": {
    "name": "ipython",
    "version": 3
   },
   "file_extension": ".py",
   "mimetype": "text/x-python",
   "name": "python",
   "nbconvert_exporter": "python",
   "pygments_lexer": "ipython3",
   "version": "3.10.4"
  },
  "orig_nbformat": 4,
  "vscode": {
   "interpreter": {
    "hash": "c47393c2b0c7d000db9982f2c4a08d18e4c03f4084a454273dd7a10f8a048227"
   }
  }
 },
 "nbformat": 4,
 "nbformat_minor": 2
}
