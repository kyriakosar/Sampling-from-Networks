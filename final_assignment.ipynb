{
 "cells": [
  {
   "cell_type": "code",
   "execution_count": 10,
   "metadata": {},
   "outputs": [
    {
     "ename": "ModuleNotFoundError",
     "evalue": "No module named 'littleballoffur.sampler'",
     "output_type": "error",
     "traceback": [
      "\u001b[1;31m---------------------------------------------------------------------------\u001b[0m",
      "\u001b[1;31mModuleNotFoundError\u001b[0m                       Traceback (most recent call last)",
      "Cell \u001b[1;32mIn [10], line 4\u001b[0m\n\u001b[0;32m      1\u001b[0m \u001b[39m\"\"\"Hybrid node edge sampler example.\"\"\"\u001b[39;00m\n\u001b[0;32m      3\u001b[0m \u001b[39mimport\u001b[39;00m \u001b[39mnetworkx\u001b[39;00m \u001b[39mas\u001b[39;00m \u001b[39mnx\u001b[39;00m\n\u001b[1;32m----> 4\u001b[0m \u001b[39mfrom\u001b[39;00m \u001b[39medge_sampling\u001b[39;00m \u001b[39mimport\u001b[39;00m HybridNodeEdgeSampler\n\u001b[0;32m      6\u001b[0m graph \u001b[39m=\u001b[39m nx\u001b[39m.\u001b[39mwatts_strogatz_graph(\u001b[39m1000\u001b[39m, \u001b[39m10\u001b[39m, \u001b[39m0\u001b[39m)\n\u001b[0;32m      8\u001b[0m sampler \u001b[39m=\u001b[39m HybridNodeEdgeSampler()\n",
      "File \u001b[1;32mc:\\Users\\KYRIAKOS ARISTIDOU\\Github Projects\\final_snacs\\edge_sampling\\__init__.py:1\u001b[0m\n\u001b[1;32m----> 1\u001b[0m \u001b[39mfrom\u001b[39;00m \u001b[39m.\u001b[39;00m\u001b[39mrandomedgesampler\u001b[39;00m \u001b[39mimport\u001b[39;00m RandomEdgeSampler\n\u001b[0;32m      2\u001b[0m \u001b[39mfrom\u001b[39;00m \u001b[39m.\u001b[39;00m\u001b[39mrandomnodeedgesampler\u001b[39;00m \u001b[39mimport\u001b[39;00m RandomNodeEdgeSampler\n\u001b[0;32m      3\u001b[0m \u001b[39mfrom\u001b[39;00m \u001b[39m.\u001b[39;00m\u001b[39mhybridnodeedgesampler\u001b[39;00m \u001b[39mimport\u001b[39;00m HybridNodeEdgeSampler\n",
      "File \u001b[1;32mc:\\Users\\KYRIAKOS ARISTIDOU\\Github Projects\\final_snacs\\edge_sampling\\randomedgesampler.py:5\u001b[0m\n\u001b[0;32m      3\u001b[0m \u001b[39mimport\u001b[39;00m \u001b[39mnetworkit\u001b[39;00m \u001b[39mas\u001b[39;00m \u001b[39mnk\u001b[39;00m\n\u001b[0;32m      4\u001b[0m \u001b[39mfrom\u001b[39;00m \u001b[39mtyping\u001b[39;00m \u001b[39mimport\u001b[39;00m Union, List\n\u001b[1;32m----> 5\u001b[0m \u001b[39mfrom\u001b[39;00m \u001b[39mlittleballoffur\u001b[39;00m\u001b[39m.\u001b[39;00m\u001b[39msampler\u001b[39;00m \u001b[39mimport\u001b[39;00m Sampler\n\u001b[0;32m      7\u001b[0m NKGraph \u001b[39m=\u001b[39m \u001b[39mtype\u001b[39m(nk\u001b[39m.\u001b[39mgraph\u001b[39m.\u001b[39mGraph())\n\u001b[0;32m      8\u001b[0m NXGraph \u001b[39m=\u001b[39m nx\u001b[39m.\u001b[39mclasses\u001b[39m.\u001b[39mgraph\u001b[39m.\u001b[39mGraph\n",
      "\u001b[1;31mModuleNotFoundError\u001b[0m: No module named 'littleballoffur.sampler'"
     ]
    }
   ],
   "source": [
    "\"\"\"Hybrid node edge sampler example.\"\"\"\n",
    "\n",
    "import networkx as nx\n",
    "from edge_sampling import HybridNodeEdgeSampler\n",
    "\n",
    "graph = nx.watts_strogatz_graph(1000, 10, 0)\n",
    "\n",
    "sampler = HybridNodeEdgeSampler()\n",
    "\n",
    "new_graph = sampler.sample(graph)"
   ]
  }
 ],
 "metadata": {
  "kernelspec": {
   "display_name": "Python 3.10.4 ('snacs')",
   "language": "python",
   "name": "python3"
  },
  "language_info": {
   "codemirror_mode": {
    "name": "ipython",
    "version": 3
   },
   "file_extension": ".py",
   "mimetype": "text/x-python",
   "name": "python",
   "nbconvert_exporter": "python",
   "pygments_lexer": "ipython3",
   "version": "3.10.4"
  },
  "orig_nbformat": 4,
  "vscode": {
   "interpreter": {
    "hash": "c47393c2b0c7d000db9982f2c4a08d18e4c03f4084a454273dd7a10f8a048227"
   }
  }
 },
 "nbformat": 4,
 "nbformat_minor": 2
}
