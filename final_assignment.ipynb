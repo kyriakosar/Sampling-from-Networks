{
 "cells": [
  {
   "cell_type": "code",
   "execution_count": 8,
   "metadata": {},
   "outputs": [
    {
     "ename": "ModuleNotFoundError",
     "evalue": "No module named 'littleballoffur.edge_sampling'",
     "output_type": "error",
     "traceback": [
      "\u001b[1;31m---------------------------------------------------------------------------\u001b[0m",
      "\u001b[1;31mModuleNotFoundError\u001b[0m                       Traceback (most recent call last)",
      "Cell \u001b[1;32mIn [8], line 2\u001b[0m\n\u001b[0;32m      1\u001b[0m \u001b[39mimport\u001b[39;00m \u001b[39mnetworkx\u001b[39;00m \u001b[39mas\u001b[39;00m \u001b[39mnx\u001b[39;00m\n\u001b[1;32m----> 2\u001b[0m \u001b[39mfrom\u001b[39;00m \u001b[39mlittleballoffur\u001b[39;00m\u001b[39m.\u001b[39;00m\u001b[39medge_sampling\u001b[39;00m \u001b[39mimport\u001b[39;00m RandomEdgeSampler\n\u001b[0;32m      4\u001b[0m graph \u001b[39m=\u001b[39m nx\u001b[39m.\u001b[39mwatts_strogatz_graph(\u001b[39m1000\u001b[39m, \u001b[39m10\u001b[39m, \u001b[39m0\u001b[39m)\n\u001b[0;32m      6\u001b[0m sampler \u001b[39m=\u001b[39m RandomEdgeSampler()\n",
      "\u001b[1;31mModuleNotFoundError\u001b[0m: No module named 'littleballoffur.edge_sampling'"
     ]
    }
   ],
   "source": [
    "import networkx as nx\n",
    "from littleballoffur.edge_sampling import RandomEdgeSampler\n",
    "\n",
    "graph = nx.watts_strogatz_graph(1000, 10, 0)\n",
    "\n",
    "sampler = RandomEdgeSampler()\n",
    "\n",
    "new_graph = sampler.sample(graph)"
   ]
  }
 ],
 "metadata": {
  "kernelspec": {
   "display_name": "Python 3.10.4 ('snacs')",
   "language": "python",
   "name": "python3"
  },
  "language_info": {
   "codemirror_mode": {
    "name": "ipython",
    "version": 3
   },
   "file_extension": ".py",
   "mimetype": "text/x-python",
   "name": "python",
   "nbconvert_exporter": "python",
   "pygments_lexer": "ipython3",
   "version": "3.10.4"
  },
  "orig_nbformat": 4,
  "vscode": {
   "interpreter": {
    "hash": "c47393c2b0c7d000db9982f2c4a08d18e4c03f4084a454273dd7a10f8a048227"
   }
  }
 },
 "nbformat": 4,
 "nbformat_minor": 2
}
